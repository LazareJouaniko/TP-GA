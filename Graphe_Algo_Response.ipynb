{
 "cells": [
  {
   "cell_type": "code",
   "execution_count": 76,
   "metadata": {},
   "outputs": [],
   "source": [
    "import numpy as np\n",
    "import matplotlib.pyplot as plt"
   ]
  },
  {
   "cell_type": "code",
   "execution_count": 68,
   "metadata": {},
   "outputs": [],
   "source": [
    "#création de la matrice de transistion de markov \n",
    "mat = np.array([[1,0,0],[1/4,1/2,1/4],[1/4,0,3/4]])"
   ]
  },
  {
   "cell_type": "code",
   "execution_count": 69,
   "metadata": {},
   "outputs": [],
   "source": [
    "def isStockastique(mat):\n",
    "    row_sum=0\n",
    "    for i in range(mat.shape[0]):\n",
    "        for j in range (mat.shape[1]):\n",
    "            row_sum = row_sum + mat[i][j]\n",
    "    if (row_sum == mat.shape[0]):\n",
    "        return True\n",
    "    else :\n",
    "        return False"
   ]
  },
  {
   "cell_type": "code",
   "execution_count": 70,
   "metadata": {},
   "outputs": [
    {
     "data": {
      "text/plain": [
       "True"
      ]
     },
     "execution_count": 70,
     "metadata": {},
     "output_type": "execute_result"
    }
   ],
   "source": [
    "#verification que la matrice est stockastique\n",
    "isStockastique(mat)"
   ]
  },
  {
   "cell_type": "code",
   "execution_count": 71,
   "metadata": {},
   "outputs": [],
   "source": [
    "def findAbsState(mat):\n",
    "    abs_state = []\n",
    "    for i in range(mat.shape[0]):\n",
    "            if mat[i][i] == 1:\n",
    "                abs_state.append(i+1)\n",
    "    return abs_state"
   ]
  },
  {
   "cell_type": "code",
   "execution_count": 72,
   "metadata": {},
   "outputs": [
    {
     "data": {
      "text/plain": [
       "[1]"
      ]
     },
     "execution_count": 72,
     "metadata": {},
     "output_type": "execute_result"
    }
   ],
   "source": [
    "findAbsState(mat)"
   ]
  },
  {
   "cell_type": "code",
   "execution_count": 73,
   "metadata": {},
   "outputs": [],
   "source": [
    "def checkAbsState(mat,indice):\n",
    "    if indice in findAbsState(mat):\n",
    "        return True\n",
    "    else :\n",
    "        return False"
   ]
  },
  {
   "cell_type": "code",
   "execution_count": 77,
   "metadata": {},
   "outputs": [],
   "source": [
    "def simulation(P, pi0, t0, tf):\n",
    "    # Simulation numerique d'une chaine de Markov en temps discret\n",
    "    # P\t    : matrice de transition\n",
    "    # pi0\t: vecteur stochastique initial (a l'instant t0)\n",
    "    # t0\t: instant initial (debut de la simulation)\n",
    "    # tf\t: instant final\n",
    "    # pi\t: matrice des valeurs successives du vecteur stochastique\n",
    "    # t     : liste des instants (t0 <= t <= tf)\n",
    "\n",
    "    t = np.arange(t0, tf + 1)\n",
    "    # controles\n",
    "    if P.shape[0] != P.shape[1] | P.shape[0] != pi0.len:\n",
    "        print(\"dimensions incorrectes\")\n",
    "    elif not isStockastique(P):\n",
    "        print(\"la matrice n est pas stochastique\")\n",
    "\n",
    "    # evolution du vecteur stochastique\n",
    "    pi = np.array(np.zeros((len(t), P.shape[1])))\n",
    "    pi[0] = pi0\n",
    "    for i in range(1, len(t)):\n",
    "        pi[i] = pi[i - 1].dot(P)\n",
    "    plt.plot(t, pi)\n",
    "    return t, pi"
   ]
  },
  {
   "cell_type": "code",
   "execution_count": 78,
   "metadata": {},
   "outputs": [
    {
     "data": {
      "text/plain": [
       "(array([ 0,  1,  2,  3,  4,  5,  6,  7,  8,  9, 10, 11, 12, 13, 14, 15, 16,\n",
       "        17, 18, 19, 20, 21, 22, 23, 24, 25, 26, 27, 28, 29, 30, 31, 32, 33,\n",
       "        34, 35, 36, 37, 38, 39, 40, 41, 42, 43, 44, 45, 46, 47, 48, 49, 50,\n",
       "        51, 52, 53, 54, 55, 56, 57, 58, 59, 60]),\n",
       " array([[0.00000000e+00, 0.00000000e+00, 1.00000000e+00],\n",
       "        [2.50000000e-01, 0.00000000e+00, 7.50000000e-01],\n",
       "        [4.37500000e-01, 0.00000000e+00, 5.62500000e-01],\n",
       "        [5.78125000e-01, 0.00000000e+00, 4.21875000e-01],\n",
       "        [6.83593750e-01, 0.00000000e+00, 3.16406250e-01],\n",
       "        [7.62695312e-01, 0.00000000e+00, 2.37304688e-01],\n",
       "        [8.22021484e-01, 0.00000000e+00, 1.77978516e-01],\n",
       "        [8.66516113e-01, 0.00000000e+00, 1.33483887e-01],\n",
       "        [8.99887085e-01, 0.00000000e+00, 1.00112915e-01],\n",
       "        [9.24915314e-01, 0.00000000e+00, 7.50846863e-02],\n",
       "        [9.43686485e-01, 0.00000000e+00, 5.63135147e-02],\n",
       "        [9.57764864e-01, 0.00000000e+00, 4.22351360e-02],\n",
       "        [9.68323648e-01, 0.00000000e+00, 3.16763520e-02],\n",
       "        [9.76242736e-01, 0.00000000e+00, 2.37572640e-02],\n",
       "        [9.82182052e-01, 0.00000000e+00, 1.78179480e-02],\n",
       "        [9.86636539e-01, 0.00000000e+00, 1.33634610e-02],\n",
       "        [9.89977404e-01, 0.00000000e+00, 1.00225958e-02],\n",
       "        [9.92483053e-01, 0.00000000e+00, 7.51694682e-03],\n",
       "        [9.94362290e-01, 0.00000000e+00, 5.63771011e-03],\n",
       "        [9.95771717e-01, 0.00000000e+00, 4.22828259e-03],\n",
       "        [9.96828788e-01, 0.00000000e+00, 3.17121194e-03],\n",
       "        [9.97621591e-01, 0.00000000e+00, 2.37840895e-03],\n",
       "        [9.98216193e-01, 0.00000000e+00, 1.78380672e-03],\n",
       "        [9.98662145e-01, 0.00000000e+00, 1.33785504e-03],\n",
       "        [9.98996609e-01, 0.00000000e+00, 1.00339128e-03],\n",
       "        [9.99247457e-01, 0.00000000e+00, 7.52543458e-04],\n",
       "        [9.99435592e-01, 0.00000000e+00, 5.64407594e-04],\n",
       "        [9.99576694e-01, 0.00000000e+00, 4.23305695e-04],\n",
       "        [9.99682521e-01, 0.00000000e+00, 3.17479271e-04],\n",
       "        [9.99761891e-01, 0.00000000e+00, 2.38109454e-04],\n",
       "        [9.99821418e-01, 0.00000000e+00, 1.78582090e-04],\n",
       "        [9.99866063e-01, 0.00000000e+00, 1.33936568e-04],\n",
       "        [9.99899548e-01, 0.00000000e+00, 1.00452426e-04],\n",
       "        [9.99924661e-01, 0.00000000e+00, 7.53393193e-05],\n",
       "        [9.99943496e-01, 0.00000000e+00, 5.65044895e-05],\n",
       "        [9.99957622e-01, 0.00000000e+00, 4.23783671e-05],\n",
       "        [9.99968216e-01, 0.00000000e+00, 3.17837753e-05],\n",
       "        [9.99976162e-01, 0.00000000e+00, 2.38378315e-05],\n",
       "        [9.99982122e-01, 0.00000000e+00, 1.78783736e-05],\n",
       "        [9.99986591e-01, 0.00000000e+00, 1.34087802e-05],\n",
       "        [9.99989943e-01, 0.00000000e+00, 1.00565852e-05],\n",
       "        [9.99992458e-01, 0.00000000e+00, 7.54243887e-06],\n",
       "        [9.99994343e-01, 0.00000000e+00, 5.65682915e-06],\n",
       "        [9.99995757e-01, 0.00000000e+00, 4.24262187e-06],\n",
       "        [9.99996818e-01, 0.00000000e+00, 3.18196640e-06],\n",
       "        [9.99997614e-01, 0.00000000e+00, 2.38647480e-06],\n",
       "        [9.99998210e-01, 0.00000000e+00, 1.78985610e-06],\n",
       "        [9.99998658e-01, 0.00000000e+00, 1.34239207e-06],\n",
       "        [9.99998993e-01, 0.00000000e+00, 1.00679406e-06],\n",
       "        [9.99999245e-01, 0.00000000e+00, 7.55095542e-07],\n",
       "        [9.99999434e-01, 0.00000000e+00, 5.66321656e-07],\n",
       "        [9.99999575e-01, 0.00000000e+00, 4.24741242e-07],\n",
       "        [9.99999681e-01, 0.00000000e+00, 3.18555932e-07],\n",
       "        [9.99999761e-01, 0.00000000e+00, 2.38916949e-07],\n",
       "        [9.99999821e-01, 0.00000000e+00, 1.79187712e-07],\n",
       "        [9.99999866e-01, 0.00000000e+00, 1.34390784e-07],\n",
       "        [9.99999899e-01, 0.00000000e+00, 1.00793088e-07],\n",
       "        [9.99999924e-01, 0.00000000e+00, 7.55948158e-08],\n",
       "        [9.99999943e-01, 0.00000000e+00, 5.66961119e-08],\n",
       "        [9.99999957e-01, 0.00000000e+00, 4.25220839e-08],\n",
       "        [9.99999968e-01, 0.00000000e+00, 3.18915629e-08]]))"
      ]
     },
     "execution_count": 78,
     "metadata": {},
     "output_type": "execute_result"
    },
    {
     "data": {
      "image/png": "[encoded data removed]",
      "text/plain": [
       "<Figure size 640x480 with 1 Axes>"
      ]
     },
     "metadata": {},
     "output_type": "display_data"
    }
   ],
   "source": [
    "simulation(mat,[0,0,1],0,60)"
   ]
  },
  {
   "cell_type": "code",
   "execution_count": 27,
   "metadata": {},
   "outputs": [],
   "source": [
    "def stationnaire(P):\n",
    "    Id = np.eye(P.shape[0])\n",
    "    TP = P.T\n",
    "    m = Id - TP\n",
    "    m = np.vstack([m, np.ones(P.shape[0])])\n",
    "    pi = np.append(np.zeros(P.shape[0]),1)\n",
    "    return np.linalg.lstsq(m, pi)[0]\n",
    "\n",
    "    \n",
    "\n"
   ]
  },
  {
   "cell_type": "code",
   "execution_count": 28,
   "metadata": {},
   "outputs": [
    {
     "name": "stderr",
     "output_type": "stream",
     "text": [
      "C:\\Users\\Lamilaz\\AppData\\Local\\Temp\\ipykernel_22856\\3732032782.py:7: FutureWarning: `rcond` parameter will change to the default of machine precision times ``max(M, N)`` where M and N are the input matrix dimensions.\n",
      "To use the future default and silence this warning we advise to pass `rcond=None`, to keep using the old, explicitly pass `rcond=-1`.\n",
      "  return np.linalg.lstsq(m, pi)[0]\n"
     ]
    },
    {
     "data": {
      "text/plain": [
       "array([0.6, 0.1, 0.3])"
      ]
     },
     "execution_count": 28,
     "metadata": {},
     "output_type": "execute_result"
    }
   ],
   "source": [
    "stationnaire(mat)"
   ]
  },
  {
   "cell_type": "markdown",
   "metadata": {},
   "source": [
    "Ergodicite"
   ]
  },
  {
   "cell_type": "code",
   "execution_count": 35,
   "metadata": {},
   "outputs": [],
   "source": [
    "#inversible ? calculer determinant\n",
    "def isInversible(mat):\n",
    "    res = np.linalg.det(mat)\n",
    "    if res != 0 :\n",
    "        return True\n",
    "    else : \n",
    "        return False"
   ]
  },
  {
   "cell_type": "code",
   "execution_count": 87,
   "metadata": {},
   "outputs": [],
   "source": [
    " mat = np.array([[1/2,1/2,0],[1/3,1/3,1/3],[1,0,0]])\n",
    " [D, V] = np.linalg.eig(mat)"
   ]
  },
  {
   "cell_type": "code",
   "execution_count": 97,
   "metadata": {},
   "outputs": [],
   "source": [
    "Vinv = np.linalg.inv(V)\n",
    "D = np.diag(D)"
   ]
  },
  {
   "cell_type": "code",
   "execution_count": 100,
   "metadata": {},
   "outputs": [
    {
     "data": {
      "text/plain": [
       "array([[ 5.00000000e-01+1.27216194e-16j,  5.00000000e-01+7.81774831e-20j,\n",
       "        -3.12250226e-17+2.48267671e-17j],\n",
       "       [ 3.33333333e-01+7.94191259e-17j,  3.33333333e-01-6.20432263e-18j,\n",
       "         3.33333333e-01+1.95626475e-17j],\n",
       "       [ 1.00000000e+00+1.35043170e-16j,  0.00000000e+00+1.41535158e-17j,\n",
       "        -1.73472348e-16+7.24747080e-17j]])"
      ]
     },
     "execution_count": 100,
     "metadata": {},
     "output_type": "execute_result"
    }
   ],
   "source": [
    "np.dot(np.dot(V,D), Vinv)"
   ]
  },
  {
   "cell_type": "code",
   "execution_count": 98,
   "metadata": {},
   "outputs": [
    {
     "data": {
      "text/plain": [
       "array([[ 1.        +0.j        ,  0.        +0.j        ,\n",
       "         0.        +0.j        ],\n",
       "       [ 0.        +0.j        , -0.08333333+0.39965263j,\n",
       "         0.        +0.j        ],\n",
       "       [ 0.        +0.j        ,  0.        +0.j        ,\n",
       "        -0.08333333-0.39965263j]])"
      ]
     },
     "execution_count": 98,
     "metadata": {},
     "output_type": "execute_result"
    }
   ],
   "source": [
    "D"
   ]
  },
  {
   "cell_type": "code",
   "execution_count": 20,
   "metadata": {},
   "outputs": [
    {
     "name": "stdout",
     "output_type": "stream",
     "text": [
      "Valeurs propres :  [1.         0.58333333 0.5       ]\n",
      "Vecteurs propres :  [[-0.57735027 -0.42640143  0.30151134]\n",
      " [-0.57735027  0.63960215 -0.90453403]\n",
      " [-0.57735027  0.63960215 -0.30151134]]\n",
      "[[0.83333333 0.08333333 0.08333333]\n",
      " [0.25       0.5        0.25      ]\n",
      " [0.25       0.         0.75      ]]\n"
     ]
    }
   ],
   "source": [
    "\n",
    "# Définir une matrice carrée\n",
    "mat = np.array([[5/6,1/12,1/12],[1/4,1/2,1/4],[1/4,0,3/4]])\n",
    "\n",
    "# Calculer les valeurs propres (D) et les vecteurs propres (V)\n",
    "D, V = np.linalg.eig(mat)\n",
    "\n",
    "print(\"Valeurs propres : \",D)\n",
    "print(\"Vecteurs propres : \",V)\n",
    "print(mat)"
   ]
  },
  {
   "cell_type": "code",
   "execution_count": 27,
   "metadata": {},
   "outputs": [
    {
     "data": {
      "text/plain": [
       "array([[ 8.33333333e-01,  8.33333333e-02,  8.33333333e-02],\n",
       "       [ 2.50000000e-01,  5.00000000e-01,  2.50000000e-01],\n",
       "       [ 2.50000000e-01, -2.07585322e-16,  7.50000000e-01]])"
      ]
     },
     "execution_count": 27,
     "metadata": {},
     "output_type": "execute_result"
    }
   ],
   "source": [
    "V_inv = np.linalg.inv(V)\n",
    "D = np.diag(D)\n",
    "np.dot(V, np.dot(D,V_inv))\n"
   ]
  },
  {
   "cell_type": "code",
   "execution_count": 28,
   "metadata": {},
   "outputs": [],
   "source": [
    "# donc on peut mettre la mat D à la puiisance que l'in souhaite comme diagonale"
   ]
  },
  {
   "cell_type": "code",
   "execution_count": 29,
   "metadata": {},
   "outputs": [],
   "source": [
    "P_n = np.dot(np.dot(V, np.linalg.matrix_power(D, 5)), V_inv)"
   ]
  },
  {
   "cell_type": "code",
   "execution_count": 32,
   "metadata": {},
   "outputs": [
    {
     "data": {
      "text/plain": [
       "array([[1., 0., 0.],\n",
       "       [0., 0., 0.],\n",
       "       [0., 0., 0.]])"
      ]
     },
     "execution_count": 32,
     "metadata": {},
     "output_type": "execute_result"
    }
   ],
   "source": [
    "np.linalg.matrix_power(D, 10000) \n",
    "#tend vers matrice à un seul coef"
   ]
  },
  {
   "cell_type": "code",
   "execution_count": 62,
   "metadata": {},
   "outputs": [],
   "source": [
    "#bonne sante vecteur initial etat 1\n",
    "V_i = np.array([0.5,0.5,0])\n"
   ]
  },
  {
   "cell_type": "code",
   "execution_count": 63,
   "metadata": {},
   "outputs": [],
   "source": [
    "def getVn(n,V,P):\n",
    "    for i in range(n):\n",
    "        V = np.dot(V,P)\n",
    "\n",
    "    return V"
   ]
  },
  {
   "cell_type": "code",
   "execution_count": 67,
   "metadata": {},
   "outputs": [
    {
     "data": {
      "text/plain": [
       "array([0.39583333, 0.27083333, 0.33333333])"
      ]
     },
     "execution_count": 67,
     "metadata": {},
     "output_type": "execute_result"
    }
   ],
   "source": [
    "getVn(1,V_i,mat)"
   ]
  },
  {
   "cell_type": "code",
   "execution_count": 65,
   "metadata": {},
   "outputs": [],
   "source": [
    "#changer VI\n",
    "V_i = np.array([0.25,0.5,0.25])"
   ]
  },
  {
   "cell_type": "code",
   "execution_count": 66,
   "metadata": {},
   "outputs": [
    {
     "data": {
      "text/plain": [
       "array([0.57635975, 0.09979725, 0.32384299])"
      ]
     },
     "execution_count": 66,
     "metadata": {},
     "output_type": "execute_result"
    }
   ],
   "source": [
    "getVn(5,V_i,mat)"
   ]
  },
  {
   "cell_type": "code",
   "execution_count": null,
   "metadata": {},
   "outputs": [],
   "source": [
    "#plot des valeurs en fonctions \n",
    "simulation()\n"
   ]
  }
 ],
 "metadata": {
  "kernelspec": {
   "display_name": "Python 3",
   "language": "python",
   "name": "python3"
  },
  "language_info": {
   "codemirror_mode": {
    "name": "ipython",
    "version": 3
   },
   "file_extension": ".py",
   "mimetype": "text/x-python",
   "name": "python",
   "nbconvert_exporter": "python",
   "pygments_lexer": "ipython3",
   "version": "3.12.3"
  }
 },
 "nbformat": 4,
 "nbformat_minor": 2
}
