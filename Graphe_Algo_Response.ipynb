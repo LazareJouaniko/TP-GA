{
 "cells": [
  {
   "cell_type": "code",
   "execution_count": 83,
   "metadata": {},
   "outputs": [],
   "source": [
    "import numpy as np\n",
    "import matplotlib.pyplot as plt"
   ]
  },
  {
   "cell_type": "code",
   "execution_count": 97,
   "metadata": {},
   "outputs": [],
   "source": [
    "#création de la matrice de transistion de markov \n",
    "mat = np.array([[5/6,1/12,1/12],[1/4,1/2,1/4],[1/4,0,3/4]])"
   ]
  },
  {
   "cell_type": "code",
   "execution_count": 98,
   "metadata": {},
   "outputs": [],
   "source": [
    "#verification connexe (uniquement pour matrice carrées)\n",
    "def isConnexe(mat):\n",
    "    for i in range(mat.shape[0]):\n",
    "        if mat[i][i] != 0 :\n",
    "            pass\n",
    "        else : \n",
    "            return False\n",
    "    return True"
   ]
  },
  {
   "cell_type": "code",
   "execution_count": 99,
   "metadata": {},
   "outputs": [],
   "source": [
    "#verification connexe (uniquement pour matrice carrées)\n",
    "def isAperiodique(mat):\n",
    "    for i in range(mat.shape[0]):\n",
    "        if mat[i][i] != 0 :\n",
    "            pass\n",
    "        else : \n",
    "            return False\n",
    "    return True"
   ]
  },
  {
   "cell_type": "code",
   "execution_count": 100,
   "metadata": {},
   "outputs": [],
   "source": [
    "def isStockastique(mat):\n",
    "    row_sum=0\n",
    "    for i in range(mat.shape[0]):\n",
    "        for j in range (mat.shape[1]):\n",
    "            row_sum = row_sum + mat[i][j]\n",
    "    if (row_sum == mat.shape[0]):\n",
    "        return True\n",
    "    else :\n",
    "        return False"
   ]
  },
  {
   "cell_type": "code",
   "execution_count": 101,
   "metadata": {},
   "outputs": [
    {
     "data": {
      "text/plain": [
       "True"
      ]
     },
     "execution_count": 101,
     "metadata": {},
     "output_type": "execute_result"
    }
   ],
   "source": [
    "#verification que la matrice est stockastique\n",
    "isStockastique(mat)"
   ]
  },
  {
   "cell_type": "code",
   "execution_count": 102,
   "metadata": {},
   "outputs": [],
   "source": [
    "def findAbsState(mat):\n",
    "    abs_state = []\n",
    "    for i in range(mat.shape[0]):\n",
    "            if mat[i][i] == 1:\n",
    "                abs_state.append(i+1)\n",
    "    return abs_state"
   ]
  },
  {
   "cell_type": "code",
   "execution_count": 103,
   "metadata": {},
   "outputs": [
    {
     "data": {
      "text/plain": [
       "[]"
      ]
     },
     "execution_count": 103,
     "metadata": {},
     "output_type": "execute_result"
    }
   ],
   "source": [
    "findAbsState(mat)"
   ]
  },
  {
   "cell_type": "code",
   "execution_count": 104,
   "metadata": {},
   "outputs": [],
   "source": [
    "def checkAbsState(mat,indice):\n",
    "    if indice in findAbsState(mat):\n",
    "        return True\n",
    "    else :\n",
    "        return False"
   ]
  },
  {
   "cell_type": "code",
   "execution_count": 105,
   "metadata": {},
   "outputs": [],
   "source": [
    "def simulation(P, pi0, t0, tf):\n",
    "    # Simulation numerique d'une chaine de Markov en temps discret\n",
    "    # P\t    : matrice de transition\n",
    "    # pi0\t: vecteur stochastique initial (a l'instant t0)\n",
    "    # t0\t: instant initial (debut de la simulation)\n",
    "    # tf\t: instant final\n",
    "    # pi\t: matrice des valeurs successives du vecteur stochastique\n",
    "    # t     : liste des instants (t0 <= t <= tf)\n",
    "\n",
    "    t = np.arange(t0, tf + 1)\n",
    "    # controles\n",
    "    if P.shape[0] != P.shape[1] | P.shape[0] != pi0.len:\n",
    "        print(\"dimensions incorrectes\")\n",
    "    elif not isStockastique(P):\n",
    "        print(\"la matrice n est pas stochastique\")\n",
    "\n",
    "    # evolution du vecteur stochastique\n",
    "    pi = np.array(np.zeros((len(t), P.shape[1])))\n",
    "    pi[0] = pi0\n",
    "    for i in range(1, len(t)):\n",
    "        pi[i] = pi[i - 1].dot(P)\n",
    "    plt.plot(t, pi)\n",
    "    return t, pi"
   ]
  },
  {
   "cell_type": "code",
   "execution_count": 114,
   "metadata": {},
   "outputs": [
    {
     "data": {
      "text/plain": [
       "(array([ 0,  1,  2,  3,  4,  5,  6,  7,  8,  9, 10, 11, 12, 13, 14, 15, 16,\n",
       "        17, 18, 19, 20, 21, 22, 23, 24, 25, 26, 27, 28, 29, 30, 31, 32, 33,\n",
       "        34, 35, 36, 37, 38, 39, 40, 41, 42, 43, 44, 45, 46, 47, 48, 49, 50,\n",
       "        51, 52, 53, 54, 55, 56, 57, 58, 59, 60]),\n",
       " array([[0.        , 0.        , 1.        ],\n",
       "        [0.25      , 0.        , 0.75      ],\n",
       "        [0.39583333, 0.02083333, 0.58333333],\n",
       "        [0.48090278, 0.04340278, 0.47569444],\n",
       "        [0.53052662, 0.06177662, 0.40769676],\n",
       "        [0.55947386, 0.07509886, 0.36542728],\n",
       "        [0.57635975, 0.08417225, 0.33946799],\n",
       "        [0.58620986, 0.09011611, 0.32367404],\n",
       "        [0.59195575, 0.09390887, 0.31413538],\n",
       "        [0.59530752, 0.09628408, 0.3084084 ],\n",
       "        [0.59726272, 0.097751  , 0.30498628],\n",
       "        [0.59840325, 0.09864739, 0.30294935],\n",
       "        [0.59906856, 0.09919063, 0.3017408 ],\n",
       "        [0.59945666, 0.0995177 , 0.30102564],\n",
       "        [0.59968305, 0.09971357, 0.30060338],\n",
       "        [0.59981511, 0.09983037, 0.30035451],\n",
       "        [0.59989215, 0.09989978, 0.30020807],\n",
       "        [0.59993709, 0.0999409 , 0.30012201],\n",
       "        [0.5999633 , 0.09996521, 0.30007149],\n",
       "        [0.59997859, 0.09997955, 0.30004186],\n",
       "        [0.59998751, 0.09998799, 0.3000245 ],\n",
       "        [0.59999272, 0.09999295, 0.30001433],\n",
       "        [0.59999575, 0.09999587, 0.30000838],\n",
       "        [0.59999752, 0.09999758, 0.3000049 ],\n",
       "        [0.59999855, 0.09999858, 0.30000286],\n",
       "        [0.59999916, 0.09999917, 0.30000167],\n",
       "        [0.59999951, 0.09999952, 0.30000098],\n",
       "        [0.59999971, 0.09999972, 0.30000057],\n",
       "        [0.59999983, 0.09999983, 0.30000033],\n",
       "        [0.5999999 , 0.0999999 , 0.30000019],\n",
       "        [0.59999994, 0.09999994, 0.30000011],\n",
       "        [0.59999997, 0.09999997, 0.30000007],\n",
       "        [0.59999998, 0.09999998, 0.30000004],\n",
       "        [0.59999999, 0.09999999, 0.30000002],\n",
       "        [0.59999999, 0.09999999, 0.30000001],\n",
       "        [0.6       , 0.1       , 0.30000001],\n",
       "        [0.6       , 0.1       , 0.3       ],\n",
       "        [0.6       , 0.1       , 0.3       ],\n",
       "        [0.6       , 0.1       , 0.3       ],\n",
       "        [0.6       , 0.1       , 0.3       ],\n",
       "        [0.6       , 0.1       , 0.3       ],\n",
       "        [0.6       , 0.1       , 0.3       ],\n",
       "        [0.6       , 0.1       , 0.3       ],\n",
       "        [0.6       , 0.1       , 0.3       ],\n",
       "        [0.6       , 0.1       , 0.3       ],\n",
       "        [0.6       , 0.1       , 0.3       ],\n",
       "        [0.6       , 0.1       , 0.3       ],\n",
       "        [0.6       , 0.1       , 0.3       ],\n",
       "        [0.6       , 0.1       , 0.3       ],\n",
       "        [0.6       , 0.1       , 0.3       ],\n",
       "        [0.6       , 0.1       , 0.3       ],\n",
       "        [0.6       , 0.1       , 0.3       ],\n",
       "        [0.6       , 0.1       , 0.3       ],\n",
       "        [0.6       , 0.1       , 0.3       ],\n",
       "        [0.6       , 0.1       , 0.3       ],\n",
       "        [0.6       , 0.1       , 0.3       ],\n",
       "        [0.6       , 0.1       , 0.3       ],\n",
       "        [0.6       , 0.1       , 0.3       ],\n",
       "        [0.6       , 0.1       , 0.3       ],\n",
       "        [0.6       , 0.1       , 0.3       ],\n",
       "        [0.6       , 0.1       , 0.3       ]]))"
      ]
     },
     "execution_count": 114,
     "metadata": {},
     "output_type": "execute_result"
    },
    {
     "data": {
      "image/png": "[encoded data removed]",
      "text/plain": [
       "<Figure size 640x480 with 1 Axes>"
      ]
     },
     "metadata": {},
     "output_type": "display_data"
    }
   ],
   "source": [
    "simulation(mat,[0,0,1],0,60)"
   ]
  },
  {
   "cell_type": "code",
   "execution_count": 143,
   "metadata": {},
   "outputs": [],
   "source": [
    "def stationnaire(mat,pi):\n",
    "    Id = np.eye(mat.shape[0])\n",
    "    TP = mat.transpose\n",
    "    Tpi = pi.transpose\n",
    "    print(Id)\n",
    "    print(TP)\n",
    "    # m = Id - TP\n",
    "    # m = np.cross(m,Tpi)\n",
    "\n",
    "    return diag"
   ]
  },
  {
   "cell_type": "code",
   "execution_count": 144,
   "metadata": {},
   "outputs": [
    {
     "name": "stdout",
     "output_type": "stream",
     "text": [
      "[[1. 0. 0.]\n",
      " [0. 1. 0.]\n",
      " [0. 0. 1.]]\n",
      "<built-in method transpose of numpy.ndarray object at 0x0000025B22FD3DB0>\n"
     ]
    },
    {
     "ename": "NameError",
     "evalue": "name 'diag' is not defined",
     "output_type": "error",
     "traceback": [
      "\u001b[1;31m---------------------------------------------------------------------------\u001b[0m",
      "\u001b[1;31mNameError\u001b[0m                                 Traceback (most recent call last)",
      "Cell \u001b[1;32mIn[144], line 1\u001b[0m\n\u001b[1;32m----> 1\u001b[0m \u001b[43mstationnaire\u001b[49m\u001b[43m(\u001b[49m\u001b[43mmat\u001b[49m\u001b[43m,\u001b[49m\u001b[43mnp\u001b[49m\u001b[38;5;241;43m.\u001b[39;49m\u001b[43marray\u001b[49m\u001b[43m(\u001b[49m\u001b[43m[\u001b[49m\u001b[38;5;241;43m1\u001b[39;49m\u001b[43m,\u001b[49m\u001b[38;5;241;43m0\u001b[39;49m\u001b[43m,\u001b[49m\u001b[38;5;241;43m0\u001b[39;49m\u001b[43m]\u001b[49m\u001b[43m)\u001b[49m\u001b[43m)\u001b[49m\n",
      "Cell \u001b[1;32mIn[143], line 10\u001b[0m, in \u001b[0;36mstationnaire\u001b[1;34m(mat, pi)\u001b[0m\n\u001b[0;32m      6\u001b[0m \u001b[38;5;28mprint\u001b[39m(TP)\n\u001b[0;32m      7\u001b[0m \u001b[38;5;66;03m# m = Id - TP\u001b[39;00m\n\u001b[0;32m      8\u001b[0m \u001b[38;5;66;03m# m = np.cross(m,Tpi)\u001b[39;00m\n\u001b[1;32m---> 10\u001b[0m \u001b[38;5;28;01mreturn\u001b[39;00m \u001b[43mdiag\u001b[49m\n",
      "\u001b[1;31mNameError\u001b[0m: name 'diag' is not defined"
     ]
    }
   ],
   "source": [
    "stationnaire(mat,np.array([1,0,0]))"
   ]
  },
  {
   "cell_type": "code",
   "execution_count": null,
   "metadata": {},
   "outputs": [],
   "source": []
  }
 ],
 "metadata": {
  "kernelspec": {
   "display_name": "Python 3",
   "language": "python",
   "name": "python3"
  },
  "language_info": {
   "codemirror_mode": {
    "name": "ipython",
    "version": 3
   },
   "file_extension": ".py",
   "mimetype": "text/x-python",
   "name": "python",
   "nbconvert_exporter": "python",
   "pygments_lexer": "ipython3",
   "version": "3.12.3"
  }
 },
 "nbformat": 4,
 "nbformat_minor": 2
}
